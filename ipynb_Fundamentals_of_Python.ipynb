{
  "cells": [
    {
      "cell_type": "markdown",
      "metadata": {
        "id": "view-in-github",
        "colab_type": "text"
      },
      "source": [
        "<a href=\"https://colab.research.google.com/github/squaluz/algotrading/blob/main/ipynb_Fundamentals_of_Python.ipynb\" target=\"_parent\"><img src=\"https://colab.research.google.com/assets/colab-badge.svg\" alt=\"Open In Colab\"/></a>"
      ]
    },
    {
      "cell_type": "markdown",
      "metadata": {
        "id": "-wCNkyKrI950"
      },
      "source": [
        "# Fundamentals of Python\n",
        "\n",
        "> Indented block\n",
        "\n",
        "\n",
        "\n",
        "## Variables\n",
        "\n",
        "Variables in python store values, which can be of different data types, such as:\n",
        "\n",
        "|Data Type|Example|\n",
        "|:-:\t|:-:\t|\n",
        "|String|\"hello\"|\n",
        "|Integer|100|\n",
        "|Float|1.5|\n",
        "|Boolean|True|\n",
        "\n",
        "Variables can also be assigned data structures such as lists, tuples, sets and dictionaries.\n",
        "\n",
        "We can assign the integer value of 5 to the variable `x` by running the code `x = 5`. We also assign the integer value of 10 to the variable `y` using `y = 10`.\n",
        "\n",
        "Then, we can run the code `print(x + y)` which would print out 15."
      ]
    },
    {
      "cell_type": "code",
      "execution_count": null,
      "metadata": {
        "id": "_CYPdfCCI96B",
        "outputId": "7fc76701-4a72-47d3-b267-57b6002c1399"
      },
      "outputs": [
        {
          "name": "stdout",
          "output_type": "stream",
          "text": [
            "15\n"
          ]
        }
      ],
      "source": [
        "# Assigning integer values to our variables x and y\n",
        "x = 5\n",
        "y = 10\n",
        "\n",
        "# Add up the numbers and print out the result\n",
        "print(x + y)"
      ]
    },
    {
      "cell_type": "markdown",
      "metadata": {
        "id": "u-Lp7q30I96F"
      },
      "source": [
        "We can also save the result of the addition to another variable `z`."
      ]
    },
    {
      "cell_type": "code",
      "execution_count": null,
      "metadata": {
        "id": "BfjQpg8TI96G",
        "outputId": "4606aa74-cf23-4452-aa00-4b894404e3b1"
      },
      "outputs": [
        {
          "name": "stdout",
          "output_type": "stream",
          "text": [
            "15\n"
          ]
        }
      ],
      "source": [
        "# Assigning the result to the `z` variable\n",
        "z = x + y\n",
        "\n",
        "# Printing out `z`\n",
        "print(z)"
      ]
    },
    {
      "cell_type": "markdown",
      "metadata": {
        "id": "CEekcucYI96H"
      },
      "source": [
        "## If - Else Statements\n",
        "\n",
        "We can introduce conditions within our code by making use of if-else statements. This can be achieved with the following syntax:\n",
        "\n",
        "```\n",
        "if (condition 1):\n",
        "    [code body 1]\n",
        "elif (condition 2):\n",
        "    [code body 2]\n",
        "else:\n",
        "    [code body 3]\n",
        "```\n",
        "\n",
        "The code first looks at the 'if' condition (condition 1), if that condition is satisfied, code body 1 is then executed, and code bodies 2 and 3 are ignored. If both conditions 1 and 2 are not satisfied, code body 3 is then executed.\n",
        "\n",
        "Refer to the example given below:"
      ]
    },
    {
      "cell_type": "code",
      "execution_count": null,
      "metadata": {
        "id": "ugqhVwaFI96H",
        "outputId": "d9c2919d-7e00-4222-fdbc-a1e105c93df0"
      },
      "outputs": [
        {
          "name": "stdout",
          "output_type": "stream",
          "text": [
            "code body 2 executed\n"
          ]
        }
      ],
      "source": [
        "# Assign the string \"hello\" to the variable `my_string`\n",
        "my_string = \"hello\"\n",
        "\n",
        "# Assign the boolean value 'True' to the variable `my_boolean`\n",
        "my_boolean = True\n",
        "\n",
        "# If-Else statement\n",
        "if my_string == \"hi\":\n",
        "    print(\"code body 1 executed\")\n",
        "elif my_boolean == True:\n",
        "    print(\"code body 2 executed\")\n",
        "else:\n",
        "    print(\"code body 3 executed\")"
      ]
    },
    {
      "cell_type": "markdown",
      "metadata": {
        "id": "zUFEU7YAI96J"
      },
      "source": [
        "In the above example, condition 1 was not met, but condition 2 was met. Hence, code body 2 was executed, and then code body 3 was ignored."
      ]
    },
    {
      "cell_type": "markdown",
      "metadata": {
        "id": "OJET7gQ8I96K"
      },
      "source": [
        "## Loops (for and while)\n",
        "\n",
        "In python, there are 2 forms of loops, in which a block of code is executed multiple times.\n",
        "\n",
        "### For loops\n",
        "\n",
        "'For loops' are executed a set number of times, according to your specifications. For example, take a look at the following code:"
      ]
    },
    {
      "cell_type": "code",
      "execution_count": null,
      "metadata": {
        "id": "tkq09_-6I96K",
        "outputId": "7b17e17d-710c-4531-ef5a-f7b12cde1a99"
      },
      "outputs": [
        {
          "name": "stdout",
          "output_type": "stream",
          "text": [
            "0\n",
            "1\n",
            "2\n",
            "3\n",
            "4\n"
          ]
        }
      ],
      "source": [
        "# For loop\n",
        "for i in range(5):\n",
        "    print(i)"
      ]
    },
    {
      "cell_type": "markdown",
      "metadata": {
        "id": "NrAwbAA6I96M"
      },
      "source": [
        "The code within the for loop was executed 5 times, each time printing out the value of i. Take note that i starts from 0."
      ]
    },
    {
      "cell_type": "markdown",
      "metadata": {
        "id": "uFhhY8aHI96M"
      },
      "source": [
        "### While loops\n",
        "\n",
        "'While loops' are executed as long as a specified condition is satisfied, so be careful as this might potentially lead you to creating infinite loops, in which the condition is always specified and there will be no end when running the code."
      ]
    },
    {
      "cell_type": "code",
      "execution_count": null,
      "metadata": {
        "id": "KlCIIaUXI96N",
        "outputId": "191811bf-1aed-4a34-dce0-4e0bb23f415b"
      },
      "outputs": [
        {
          "name": "stdout",
          "output_type": "stream",
          "text": [
            "1\n",
            "2\n",
            "3\n",
            "4\n",
            "5\n",
            "6\n",
            "7\n",
            "8\n",
            "9\n"
          ]
        }
      ],
      "source": [
        "# Setting some initial conditions\n",
        "end = 10\n",
        "start = 1\n",
        "\n",
        "# While loop\n",
        "while start < end:\n",
        "    print(start)\n",
        "    start += 1"
      ]
    },
    {
      "cell_type": "markdown",
      "metadata": {
        "id": "KrVxupv-I96N"
      },
      "source": [
        "We start off by specifying some variables `start` and `end`. As long as `start` is lesser than `end`, the code within the while loop is executed.\n",
        "\n",
        "Next, we have to increase the value of `start` by 1 each loop, so that we do not create an infinite loop. This can be done by using `+=`."
      ]
    },
    {
      "cell_type": "markdown",
      "metadata": {
        "id": "LkfUsCilI96O"
      },
      "source": [
        "## Data Structures (lists, tuples and dictionaries)\n",
        "\n",
        "Data structures can be used to store a collection of data together. We will be going through the basic data structures in python.\n",
        "\n",
        "### Lists\n",
        "\n",
        "Lists are created using the square brackets [ ]. "
      ]
    },
    {
      "cell_type": "code",
      "execution_count": null,
      "metadata": {
        "id": "pWmB0022I96O",
        "outputId": "d59ba886-ba98-476e-f036-d190eb08ab31"
      },
      "outputs": [
        {
          "name": "stdout",
          "output_type": "stream",
          "text": [
            "[0, 1, 2, 3, 4]\n"
          ]
        }
      ],
      "source": [
        "# Initialising the list and assigning it to my_list\n",
        "my_list = []\n",
        "\n",
        "# Adding some numbers into the list using 'append'\n",
        "for i in range(5):\n",
        "    my_list.append(i)\n",
        "    \n",
        "# Print out the list to see what items are inside\n",
        "print(my_list)"
      ]
    },
    {
      "cell_type": "markdown",
      "metadata": {
        "id": "pW2TXHXqI96P"
      },
      "source": [
        "We can also access items within the list by indexing. Let's change the number at index 2 to something else."
      ]
    },
    {
      "cell_type": "code",
      "execution_count": null,
      "metadata": {
        "id": "WZPbtKWpI96P",
        "outputId": "a694a16f-18cc-4332-ead5-ea11d17248c3"
      },
      "outputs": [
        {
          "name": "stdout",
          "output_type": "stream",
          "text": [
            "[0, 1, 99, 3, 4]\n"
          ]
        }
      ],
      "source": [
        "my_list = [0, 1, 2, 3, 4]\n",
        "\n",
        "# Changing the number at index 2 (which is the 3rd position since we start counting from 0)\n",
        "my_list[2] = 99\n",
        "\n",
        "# Print out the updated list\n",
        "print(my_list)"
      ]
    },
    {
      "cell_type": "markdown",
      "metadata": {
        "id": "2PXZYTZEI96Q"
      },
      "source": [
        "Removing items from lists can be done using 'remove'."
      ]
    },
    {
      "cell_type": "code",
      "execution_count": null,
      "metadata": {
        "id": "meyPOJnsI96Q",
        "outputId": "eee9cf50-b1ac-4f7c-f03f-153395387dea"
      },
      "outputs": [
        {
          "name": "stdout",
          "output_type": "stream",
          "text": [
            "[0, 1, 2, 3]\n"
          ]
        }
      ],
      "source": [
        "my_list = [0, 1, 2, 3, 4]\n",
        "\n",
        "# Removing the number 4 from the list\n",
        "my_list.remove(4)\n",
        "\n",
        "# Print out the updated list\n",
        "print(my_list)"
      ]
    },
    {
      "cell_type": "markdown",
      "metadata": {
        "id": "VdGZRp_TI96R"
      },
      "source": [
        "### Tuples\n",
        "\n",
        "Tuples are like lists, they are a collection of data. However, unlike lists, tuples cannot be changed. To change a tuple, we would have to create a new one."
      ]
    },
    {
      "cell_type": "code",
      "execution_count": null,
      "metadata": {
        "id": "qE2fYFqfI96R",
        "outputId": "d69a182a-c72d-4786-9d5d-79bd88481e60"
      },
      "outputs": [
        {
          "name": "stdout",
          "output_type": "stream",
          "text": [
            "(100, 200, 300, 'one and only string')\n"
          ]
        }
      ],
      "source": [
        "# Initialising the list and assigning it to my_tuple\n",
        "my_tuple = (100, 200, 300)\n",
        "\n",
        "# To create a tuple with only 1 item inside, we have to add a comma\n",
        "my_single_tuple = (\"one and only string\",)\n",
        "\n",
        "# Let's see what we get when we add up these 2 tuples\n",
        "my_new_tuple = my_tuple + my_single_tuple\n",
        "\n",
        "print(my_new_tuple)"
      ]
    },
    {
      "cell_type": "markdown",
      "metadata": {
        "id": "VqAKOmXGI96S"
      },
      "source": [
        "As you can see, `my_new_tuple` contains the items that were in both tuples. Take note that this can also be done for lists."
      ]
    },
    {
      "cell_type": "markdown",
      "metadata": {
        "id": "-dNiWke8I96T"
      },
      "source": [
        "### Dictionaries\n",
        "\n",
        "Dictionaries are a little different, instead of storing single items in a collection, dictionaries store key-value pairs similar to a phone book as such:\n",
        "\n",
        "```\n",
        "my_dictionary = {1:\"first item\",\n",
        "                 2: \"second item\",\n",
        "                 3: \"third item\"}\n",
        "```\n",
        "\n",
        "We can access each value in the dictionary using its corresponding key. For example, if we want to access the second item:"
      ]
    },
    {
      "cell_type": "code",
      "execution_count": null,
      "metadata": {
        "id": "gDkW5-u3I96T",
        "outputId": "2ee240ad-40f3-45cd-ed14-1ee86fcc4370"
      },
      "outputs": [
        {
          "name": "stdout",
          "output_type": "stream",
          "text": [
            "second item\n"
          ]
        }
      ],
      "source": [
        "# Creating a dictionary and assigning it to `my_dictionary`\n",
        "my_dictionary = {1: \"first item\",\n",
        "                 2: \"second item\",\n",
        "                 3: \"third item\"}\n",
        "\n",
        "# Accessing the second item\n",
        "print(my_dictionary[2])"
      ]
    },
    {
      "cell_type": "code",
      "execution_count": null,
      "metadata": {
        "id": "H_Qe_3QGI96U",
        "outputId": "16ecfc2f-997b-4393-a7ee-8af3c2a9cbbc"
      },
      "outputs": [
        {
          "name": "stdout",
          "output_type": "stream",
          "text": [
            "{1: 'first item', 2: 'second item', 3: 'third item', 4: 'new item'}\n"
          ]
        }
      ],
      "source": [
        "my_dictionary = {1: \"first item\",\n",
        "                 2: \"second item\",\n",
        "                 3: \"third item\"}\n",
        "\n",
        "# Adding items in a dictionary\n",
        "my_dictionary[4] = \"new item\"\n",
        "\n",
        "# Printing out the dictionary\n",
        "print(my_dictionary)"
      ]
    },
    {
      "cell_type": "code",
      "execution_count": null,
      "metadata": {
        "id": "3KK9l8kmI96U",
        "outputId": "d4dd269c-2973-46c5-9889-90ec8d2967dc"
      },
      "outputs": [
        {
          "name": "stdout",
          "output_type": "stream",
          "text": [
            "{1: 'first item', 2: 'second item'}\n"
          ]
        }
      ],
      "source": [
        "my_dictionary = {1: \"first item\",\n",
        "                 2: \"second item\",\n",
        "                 3: \"third item\"}\n",
        "\n",
        "# Removing the key-value pair with the key 3\n",
        "del my_dictionary[3]\n",
        "\n",
        "# Printing out the dictionary\n",
        "print(my_dictionary)"
      ]
    },
    {
      "cell_type": "markdown",
      "metadata": {
        "id": "6uTLllPGI96U"
      },
      "source": [
        "## Functions\n",
        "\n",
        "Python functions are blocks of code that takes an input, and returns you an output. For example, let's write a function which takes as input a number, cubes the number, and then returns it."
      ]
    },
    {
      "cell_type": "code",
      "execution_count": null,
      "metadata": {
        "id": "igeR8pZvI96V",
        "outputId": "7e063582-4ce9-431f-b1f0-4af0854d857e"
      },
      "outputs": [
        {
          "name": "stdout",
          "output_type": "stream",
          "text": [
            "216\n"
          ]
        }
      ],
      "source": [
        "def cube(input_number):\n",
        "    \n",
        "    # use ** when you would like to raise a number to calculate powers\n",
        "    new_number = input_number ** 3  \n",
        "    \n",
        "    return new_number\n",
        "\n",
        "# Let's see this function in action\n",
        "print(cube(6))"
      ]
    },
    {
      "cell_type": "markdown",
      "metadata": {
        "id": "tzxewyvBI96V"
      },
      "source": [
        "To define a new function, start by writing 'def', followed by your function name, and then put the inputs to the function in parantheses.\n",
        "\n",
        "Take note that code within the function must have an extra indent, and if you want your function to return an answer, include the 'return' syntax within the code."
      ]
    },
    {
      "cell_type": "markdown",
      "metadata": {
        "id": "EqNZ37xDI96W"
      },
      "source": [
        "## External Libraries (numpy and pandas)\n",
        "\n",
        "Python libraries are code collections that allow you to perform different actions without the need to write your own code, because someone else has already done that for you. We will be introducing numpy and pandas, 2 important libraries to learn when it comes to financial analysis and any form of analysis in general.\n",
        "\n",
        "### numpy\n",
        "\n",
        "The numpy library is typically imported using `import numpy as np`.\n",
        "\n",
        "Numpy allows you to make use of arrays, which can be thought of as a list, but it makes mathematical operations to be perform with much greater ease. Items within the array have to be of the same type (usually numbers).\n",
        "\n",
        "For more information, check out numpy's quickstart guide here: https://numpy.org/devdocs/user/quickstart.html"
      ]
    },
    {
      "cell_type": "code",
      "execution_count": null,
      "metadata": {
        "id": "G92d_uplI96W",
        "outputId": "5137bb0e-a20a-48ba-956c-0f185acda513"
      },
      "outputs": [
        {
          "name": "stdout",
          "output_type": "stream",
          "text": [
            "Addition: [11 22 33]\n",
            "Multiplication: [10 40 90]\n"
          ]
        }
      ],
      "source": [
        "import numpy as np\n",
        "\n",
        "# Creating numpy arrays\n",
        "my_array1 = np.array([1, 2, 3])\n",
        "my_array2 = np.array([10, 20, 30])\n",
        "\n",
        "# Performing mathematical operations on the arrays\n",
        "print('Addition: {}'.format( my_array1 + my_array2 ))\n",
        "print('Multiplication: {}'.format( my_array1 * my_array2 ))"
      ]
    },
    {
      "cell_type": "markdown",
      "metadata": {
        "id": "Kswp3sOPI96W"
      },
      "source": [
        "As you can see, we can perform mathematical operations on the arrays element-wise without the need to use any for loops or while loops. The first element of each array is added/multiplied together, the same is done for the 2nd and 3rd elements."
      ]
    },
    {
      "cell_type": "markdown",
      "metadata": {
        "id": "vJRHgyTkI96W"
      },
      "source": [
        "### pandas\n",
        "\n",
        "Pandas is a powerful library for data analysis and it will be used extensively for financial analysis purposes as well. In particular, we will need to know how pandas Series and DataFrames work.\n",
        "\n",
        "The pandas library is typically imported using `import pandas as pd`.\n",
        "\n",
        "For more information, check out the guide on the pandas library here: https://pandas.pydata.org/getting_started.html\n",
        "\n",
        "Pandas Series is a labelled array data structure that holds data of any data type. "
      ]
    },
    {
      "cell_type": "code",
      "execution_count": null,
      "metadata": {
        "id": "QqiwhqPBI96X",
        "outputId": "16c13997-52e2-4f78-b2d8-6044981f61cb"
      },
      "outputs": [
        {
          "name": "stdout",
          "output_type": "stream",
          "text": [
            "1      one\n",
            "2      two\n",
            "3    three\n",
            "4     four\n",
            "5     five\n",
            "dtype: object\n"
          ]
        }
      ],
      "source": [
        "import pandas as pd\n",
        "\n",
        "# Creating pandas Series\n",
        "my_series = pd.Series([\"one\", \"two\", \"three\", \"four\", \"five\"], index=[1,2,3,4,5])\n",
        "\n",
        "# Print out the series\n",
        "print(my_series)"
      ]
    },
    {
      "cell_type": "markdown",
      "metadata": {
        "id": "dg_bdfkfI96X"
      },
      "source": [
        "As you can see, each item in the series is labelled. The labels are referred to as 'index'.\n",
        "\n",
        "Similar to numpy arrays, pandas series support vectorised operations, in which no looping is required to conduct operations on the series elements, provided that the operations are valid for the element type.\n",
        "\n",
        "An example is shown below on `my_series`."
      ]
    },
    {
      "cell_type": "code",
      "execution_count": null,
      "metadata": {
        "id": "ExfHg9qfI96Y",
        "outputId": "e2a2b3f9-2040-4ccf-f94b-478a4b9c1dd6"
      },
      "outputs": [
        {
          "name": "stdout",
          "output_type": "stream",
          "text": [
            "1        oneone\n",
            "2        twotwo\n",
            "3    threethree\n",
            "4      fourfour\n",
            "5      fivefive\n",
            "dtype: object\n"
          ]
        }
      ],
      "source": [
        "print(my_series + my_series)"
      ]
    },
    {
      "cell_type": "markdown",
      "metadata": {
        "id": "uxMtaBUxI96Y"
      },
      "source": [
        "Next, a pandas DataFrame is a table-like data structure to contain data. To create a pandas DataFrame, we can make use of different ways including:\n",
        "\n",
        "- from a dictionary of pandas series objects\n",
        "- from a dictionary of numpy arrays or python lists\n",
        "\n",
        "Refer to the guide for more ways on creating pandas DataFrames."
      ]
    },
    {
      "cell_type": "code",
      "execution_count": null,
      "metadata": {
        "id": "9BMauyT7I96Y",
        "outputId": "6be25579-e113-4f59-a67d-05caadf542b2"
      },
      "outputs": [
        {
          "data": {
            "text/html": [
              "<div>\n",
              "<style scoped>\n",
              "    .dataframe tbody tr th:only-of-type {\n",
              "        vertical-align: middle;\n",
              "    }\n",
              "\n",
              "    .dataframe tbody tr th {\n",
              "        vertical-align: top;\n",
              "    }\n",
              "\n",
              "    .dataframe thead th {\n",
              "        text-align: right;\n",
              "    }\n",
              "</style>\n",
              "<table border=\"1\" class=\"dataframe\">\n",
              "  <thead>\n",
              "    <tr style=\"text-align: right;\">\n",
              "      <th></th>\n",
              "      <th>col1</th>\n",
              "      <th>col2</th>\n",
              "    </tr>\n",
              "  </thead>\n",
              "  <tbody>\n",
              "    <tr>\n",
              "      <th>0</th>\n",
              "      <td>1</td>\n",
              "      <td>4</td>\n",
              "    </tr>\n",
              "    <tr>\n",
              "      <th>1</th>\n",
              "      <td>2</td>\n",
              "      <td>5</td>\n",
              "    </tr>\n",
              "    <tr>\n",
              "      <th>2</th>\n",
              "      <td>3</td>\n",
              "      <td>6</td>\n",
              "    </tr>\n",
              "  </tbody>\n",
              "</table>\n",
              "</div>"
            ],
            "text/plain": [
              "   col1  col2\n",
              "0     1     4\n",
              "1     2     5\n",
              "2     3     6"
            ]
          },
          "execution_count": 17,
          "metadata": {},
          "output_type": "execute_result"
        }
      ],
      "source": [
        "# From a dictionary of pandas series objects\n",
        "series1 = pd.Series([1,2,3])\n",
        "series2 = pd.Series([4,5,6])\n",
        "dict1 = {'col1': series1, \n",
        "         'col2': series2}\n",
        "\n",
        "# Convert the dictionary into a DataFrame\n",
        "my_dataframe1 = pd.DataFrame(dict1)\n",
        "\n",
        "my_dataframe1"
      ]
    },
    {
      "cell_type": "code",
      "execution_count": null,
      "metadata": {
        "id": "Iorsi6ZFI96Z",
        "outputId": "e085925c-6e1a-4266-a321-581311e35167"
      },
      "outputs": [
        {
          "data": {
            "text/html": [
              "<div>\n",
              "<style scoped>\n",
              "    .dataframe tbody tr th:only-of-type {\n",
              "        vertical-align: middle;\n",
              "    }\n",
              "\n",
              "    .dataframe tbody tr th {\n",
              "        vertical-align: top;\n",
              "    }\n",
              "\n",
              "    .dataframe thead th {\n",
              "        text-align: right;\n",
              "    }\n",
              "</style>\n",
              "<table border=\"1\" class=\"dataframe\">\n",
              "  <thead>\n",
              "    <tr style=\"text-align: right;\">\n",
              "      <th></th>\n",
              "      <th>col1</th>\n",
              "      <th>col2</th>\n",
              "    </tr>\n",
              "  </thead>\n",
              "  <tbody>\n",
              "    <tr>\n",
              "      <th>0</th>\n",
              "      <td>10</td>\n",
              "      <td>111</td>\n",
              "    </tr>\n",
              "    <tr>\n",
              "      <th>1</th>\n",
              "      <td>20</td>\n",
              "      <td>222</td>\n",
              "    </tr>\n",
              "    <tr>\n",
              "      <th>2</th>\n",
              "      <td>30</td>\n",
              "      <td>333</td>\n",
              "    </tr>\n",
              "  </tbody>\n",
              "</table>\n",
              "</div>"
            ],
            "text/plain": [
              "   col1  col2\n",
              "0    10   111\n",
              "1    20   222\n",
              "2    30   333"
            ]
          },
          "execution_count": 18,
          "metadata": {},
          "output_type": "execute_result"
        }
      ],
      "source": [
        "# From a dictionary of numpy arrays or python lists\n",
        "array1 = np.array([10,20,30])\n",
        "list2 = [111,222,333]\n",
        "dict2 = {'col1': array1,\n",
        "         'col2': list2}\n",
        "\n",
        "# Convert the dictionary into a DataFrame\n",
        "my_dataframe2 = pd.DataFrame(dict2)\n",
        "\n",
        "my_dataframe2"
      ]
    },
    {
      "cell_type": "markdown",
      "metadata": {
        "id": "LMmU-n2BI96Z"
      },
      "source": [
        "## Analysis On Stock Data\n",
        "\n",
        "We will now be getting some hands-on experience practising whatever we have learnt so far by making some analysis on stock price data.\n",
        "\n",
        "### Getting Stock Data Into The Notebook\n",
        "\n",
        "For simplicity's sake, we will be providing the stock price data for Facebook (FB) as a CSV file to be downloaded from the following link:\n",
        "\n",
        "Link: https://tinyurl.com/fundamentalsofpython\n",
        "\n",
        "Put the downloaded 'FB.csv' file in the same folder as this Jupyter notebook for easy access."
      ]
    },
    {
      "cell_type": "code",
      "execution_count": null,
      "metadata": {
        "id": "xB_nqlXRI96Z",
        "outputId": "4319cc0c-9bbb-410c-a24d-3fa224d53bcf"
      },
      "outputs": [
        {
          "data": {
            "text/html": [
              "<div>\n",
              "<style scoped>\n",
              "    .dataframe tbody tr th:only-of-type {\n",
              "        vertical-align: middle;\n",
              "    }\n",
              "\n",
              "    .dataframe tbody tr th {\n",
              "        vertical-align: top;\n",
              "    }\n",
              "\n",
              "    .dataframe thead th {\n",
              "        text-align: right;\n",
              "    }\n",
              "</style>\n",
              "<table border=\"1\" class=\"dataframe\">\n",
              "  <thead>\n",
              "    <tr style=\"text-align: right;\">\n",
              "      <th></th>\n",
              "      <th>Date</th>\n",
              "      <th>Open</th>\n",
              "      <th>High</th>\n",
              "      <th>Low</th>\n",
              "      <th>Close</th>\n",
              "      <th>Adj Close</th>\n",
              "      <th>Volume</th>\n",
              "    </tr>\n",
              "  </thead>\n",
              "  <tbody>\n",
              "    <tr>\n",
              "      <th>0</th>\n",
              "      <td>2/1/2020</td>\n",
              "      <td>206.750000</td>\n",
              "      <td>209.789993</td>\n",
              "      <td>NaN</td>\n",
              "      <td>209.779999</td>\n",
              "      <td>209.779999</td>\n",
              "      <td>12077100</td>\n",
              "    </tr>\n",
              "    <tr>\n",
              "      <th>1</th>\n",
              "      <td>3/1/2020</td>\n",
              "      <td>207.210007</td>\n",
              "      <td>210.399994</td>\n",
              "      <td>NaN</td>\n",
              "      <td>208.669998</td>\n",
              "      <td>208.669998</td>\n",
              "      <td>11188400</td>\n",
              "    </tr>\n",
              "    <tr>\n",
              "      <th>2</th>\n",
              "      <td>6/1/2020</td>\n",
              "      <td>206.699997</td>\n",
              "      <td>212.779999</td>\n",
              "      <td>206.520004</td>\n",
              "      <td>NaN</td>\n",
              "      <td>212.600006</td>\n",
              "      <td>17058900</td>\n",
              "    </tr>\n",
              "    <tr>\n",
              "      <th>3</th>\n",
              "      <td>7/1/2020</td>\n",
              "      <td>212.820007</td>\n",
              "      <td>214.580002</td>\n",
              "      <td>211.750000</td>\n",
              "      <td>213.059998</td>\n",
              "      <td>213.059998</td>\n",
              "      <td>14912400</td>\n",
              "    </tr>\n",
              "    <tr>\n",
              "      <th>4</th>\n",
              "      <td>8/1/2020</td>\n",
              "      <td>213.000000</td>\n",
              "      <td>216.240005</td>\n",
              "      <td>212.610001</td>\n",
              "      <td>215.220001</td>\n",
              "      <td>215.220001</td>\n",
              "      <td>13475000</td>\n",
              "    </tr>\n",
              "  </tbody>\n",
              "</table>\n",
              "</div>"
            ],
            "text/plain": [
              "       Date        Open        High         Low       Close   Adj Close  \\\n",
              "0  2/1/2020  206.750000  209.789993         NaN  209.779999  209.779999   \n",
              "1  3/1/2020  207.210007  210.399994         NaN  208.669998  208.669998   \n",
              "2  6/1/2020  206.699997  212.779999  206.520004         NaN  212.600006   \n",
              "3  7/1/2020  212.820007  214.580002  211.750000  213.059998  213.059998   \n",
              "4  8/1/2020  213.000000  216.240005  212.610001  215.220001  215.220001   \n",
              "\n",
              "     Volume  \n",
              "0  12077100  \n",
              "1  11188400  \n",
              "2  17058900  \n",
              "3  14912400  \n",
              "4  13475000  "
            ]
          },
          "execution_count": 19,
          "metadata": {},
          "output_type": "execute_result"
        }
      ],
      "source": [
        "# Begin by importing the file into the notebook and assigning the data to the `df` variable\n",
        "df = pd.read_csv('FB.csv')\n",
        "\n",
        "# Print out the first 5 rows of the DataFrame\n",
        "df.head()"
      ]
    },
    {
      "cell_type": "markdown",
      "metadata": {
        "id": "QMBgPw_0I96a"
      },
      "source": [
        "Now, the `df` variable contains the stock price data of Facebook from 1 Jan 2020 to 30 Jun 2020.\n",
        "\n",
        "However, if you look closely enough, we see that there are missing values (represented by NaN) in our data, on 2, 3 and 6 Jan 2020.\n",
        "\n",
        "Failure to address these missing values can result in errors in our code and analysis later on. \n",
        "\n",
        "### Handling Missing Values\n",
        "\n",
        "There are several ways to handle missing values in your data, including:\n",
        "\n",
        "- Removing them\n",
        "- Replacing them with strategic values\n",
        "\n",
        "For now, we will simply delete those rows with missing values. However in future, you might choose to deal with these missing values in a different manner which we will not be going into."
      ]
    },
    {
      "cell_type": "code",
      "execution_count": null,
      "metadata": {
        "id": "LQHJjHfMI96a",
        "outputId": "afaa1b63-24ed-4a96-a2ca-eac69fdf3fc7"
      },
      "outputs": [
        {
          "data": {
            "text/html": [
              "<div>\n",
              "<style scoped>\n",
              "    .dataframe tbody tr th:only-of-type {\n",
              "        vertical-align: middle;\n",
              "    }\n",
              "\n",
              "    .dataframe tbody tr th {\n",
              "        vertical-align: top;\n",
              "    }\n",
              "\n",
              "    .dataframe thead th {\n",
              "        text-align: right;\n",
              "    }\n",
              "</style>\n",
              "<table border=\"1\" class=\"dataframe\">\n",
              "  <thead>\n",
              "    <tr style=\"text-align: right;\">\n",
              "      <th></th>\n",
              "      <th>Date</th>\n",
              "      <th>Open</th>\n",
              "      <th>High</th>\n",
              "      <th>Low</th>\n",
              "      <th>Close</th>\n",
              "      <th>Adj Close</th>\n",
              "      <th>Volume</th>\n",
              "    </tr>\n",
              "  </thead>\n",
              "  <tbody>\n",
              "    <tr>\n",
              "      <th>3</th>\n",
              "      <td>7/1/2020</td>\n",
              "      <td>212.820007</td>\n",
              "      <td>214.580002</td>\n",
              "      <td>211.750000</td>\n",
              "      <td>213.059998</td>\n",
              "      <td>213.059998</td>\n",
              "      <td>14912400</td>\n",
              "    </tr>\n",
              "    <tr>\n",
              "      <th>4</th>\n",
              "      <td>8/1/2020</td>\n",
              "      <td>213.000000</td>\n",
              "      <td>216.240005</td>\n",
              "      <td>212.610001</td>\n",
              "      <td>215.220001</td>\n",
              "      <td>215.220001</td>\n",
              "      <td>13475000</td>\n",
              "    </tr>\n",
              "    <tr>\n",
              "      <th>5</th>\n",
              "      <td>9/1/2020</td>\n",
              "      <td>217.539993</td>\n",
              "      <td>218.380005</td>\n",
              "      <td>216.279999</td>\n",
              "      <td>218.300003</td>\n",
              "      <td>218.300003</td>\n",
              "      <td>12642800</td>\n",
              "    </tr>\n",
              "    <tr>\n",
              "      <th>6</th>\n",
              "      <td>10/1/2020</td>\n",
              "      <td>219.199997</td>\n",
              "      <td>219.880005</td>\n",
              "      <td>217.419998</td>\n",
              "      <td>218.059998</td>\n",
              "      <td>218.059998</td>\n",
              "      <td>12119400</td>\n",
              "    </tr>\n",
              "    <tr>\n",
              "      <th>7</th>\n",
              "      <td>13/1/2020</td>\n",
              "      <td>219.600006</td>\n",
              "      <td>221.970001</td>\n",
              "      <td>219.210007</td>\n",
              "      <td>221.910004</td>\n",
              "      <td>221.910004</td>\n",
              "      <td>14463400</td>\n",
              "    </tr>\n",
              "  </tbody>\n",
              "</table>\n",
              "</div>"
            ],
            "text/plain": [
              "        Date        Open        High         Low       Close   Adj Close  \\\n",
              "3   7/1/2020  212.820007  214.580002  211.750000  213.059998  213.059998   \n",
              "4   8/1/2020  213.000000  216.240005  212.610001  215.220001  215.220001   \n",
              "5   9/1/2020  217.539993  218.380005  216.279999  218.300003  218.300003   \n",
              "6  10/1/2020  219.199997  219.880005  217.419998  218.059998  218.059998   \n",
              "7  13/1/2020  219.600006  221.970001  219.210007  221.910004  221.910004   \n",
              "\n",
              "     Volume  \n",
              "3  14912400  \n",
              "4  13475000  \n",
              "5  12642800  \n",
              "6  12119400  \n",
              "7  14463400  "
            ]
          },
          "execution_count": 20,
          "metadata": {},
          "output_type": "execute_result"
        }
      ],
      "source": [
        "# Simply deleting rows with missing values\n",
        "df = df.dropna()\n",
        "\n",
        "# Print out the first 5 rows of the DataFrame\n",
        "df.head()"
      ]
    },
    {
      "cell_type": "markdown",
      "metadata": {
        "id": "TxHrDDucI96a"
      },
      "source": [
        "Now that we have removed those rows with missing data, we will learn how to perform calculations on the data.\n",
        "\n",
        "### Performing Calculations (Percentage Change, Returns and Standard Deviation)\n",
        "\n",
        "An important calculation in financial analysis of stock prices is the daily percentage change.\n",
        "\n",
        "We will need to find the daily percentage changes for the 'Adj Close' column using the `pct_change()` method."
      ]
    },
    {
      "cell_type": "code",
      "execution_count": null,
      "metadata": {
        "id": "LhnS7rYOI96a",
        "outputId": "c461df07-dcd1-44b6-a7fd-acff550bda09"
      },
      "outputs": [
        {
          "data": {
            "text/html": [
              "<div>\n",
              "<style scoped>\n",
              "    .dataframe tbody tr th:only-of-type {\n",
              "        vertical-align: middle;\n",
              "    }\n",
              "\n",
              "    .dataframe tbody tr th {\n",
              "        vertical-align: top;\n",
              "    }\n",
              "\n",
              "    .dataframe thead th {\n",
              "        text-align: right;\n",
              "    }\n",
              "</style>\n",
              "<table border=\"1\" class=\"dataframe\">\n",
              "  <thead>\n",
              "    <tr style=\"text-align: right;\">\n",
              "      <th></th>\n",
              "      <th>Date</th>\n",
              "      <th>Open</th>\n",
              "      <th>High</th>\n",
              "      <th>Low</th>\n",
              "      <th>Close</th>\n",
              "      <th>Adj Close</th>\n",
              "      <th>Volume</th>\n",
              "      <th>PCT_Change</th>\n",
              "    </tr>\n",
              "  </thead>\n",
              "  <tbody>\n",
              "    <tr>\n",
              "      <th>3</th>\n",
              "      <td>2020-01-07</td>\n",
              "      <td>212.820007</td>\n",
              "      <td>214.580002</td>\n",
              "      <td>211.750000</td>\n",
              "      <td>213.059998</td>\n",
              "      <td>213.059998</td>\n",
              "      <td>14912400</td>\n",
              "      <td>NaN</td>\n",
              "    </tr>\n",
              "    <tr>\n",
              "      <th>4</th>\n",
              "      <td>2020-01-08</td>\n",
              "      <td>213.000000</td>\n",
              "      <td>216.240005</td>\n",
              "      <td>212.610001</td>\n",
              "      <td>215.220001</td>\n",
              "      <td>215.220001</td>\n",
              "      <td>13475000</td>\n",
              "      <td>0.010138</td>\n",
              "    </tr>\n",
              "    <tr>\n",
              "      <th>5</th>\n",
              "      <td>2020-01-09</td>\n",
              "      <td>217.539993</td>\n",
              "      <td>218.380005</td>\n",
              "      <td>216.279999</td>\n",
              "      <td>218.300003</td>\n",
              "      <td>218.300003</td>\n",
              "      <td>12642800</td>\n",
              "      <td>0.014311</td>\n",
              "    </tr>\n",
              "    <tr>\n",
              "      <th>6</th>\n",
              "      <td>2020-01-10</td>\n",
              "      <td>219.199997</td>\n",
              "      <td>219.880005</td>\n",
              "      <td>217.419998</td>\n",
              "      <td>218.059998</td>\n",
              "      <td>218.059998</td>\n",
              "      <td>12119400</td>\n",
              "      <td>-0.001099</td>\n",
              "    </tr>\n",
              "    <tr>\n",
              "      <th>7</th>\n",
              "      <td>2020-01-13</td>\n",
              "      <td>219.600006</td>\n",
              "      <td>221.970001</td>\n",
              "      <td>219.210007</td>\n",
              "      <td>221.910004</td>\n",
              "      <td>221.910004</td>\n",
              "      <td>14463400</td>\n",
              "      <td>0.017656</td>\n",
              "    </tr>\n",
              "  </tbody>\n",
              "</table>\n",
              "</div>"
            ],
            "text/plain": [
              "        Date        Open        High         Low       Close   Adj Close  \\\n",
              "3 2020-01-07  212.820007  214.580002  211.750000  213.059998  213.059998   \n",
              "4 2020-01-08  213.000000  216.240005  212.610001  215.220001  215.220001   \n",
              "5 2020-01-09  217.539993  218.380005  216.279999  218.300003  218.300003   \n",
              "6 2020-01-10  219.199997  219.880005  217.419998  218.059998  218.059998   \n",
              "7 2020-01-13  219.600006  221.970001  219.210007  221.910004  221.910004   \n",
              "\n",
              "     Volume  PCT_Change  \n",
              "3  14912400         NaN  \n",
              "4  13475000    0.010138  \n",
              "5  12642800    0.014311  \n",
              "6  12119400   -0.001099  \n",
              "7  14463400    0.017656  "
            ]
          },
          "execution_count": 24,
          "metadata": {},
          "output_type": "execute_result"
        }
      ],
      "source": [
        "# Calculating the daily percentage changes\n",
        "df['PCT_Change'] = df['Adj Close'].pct_change()\n",
        "\n",
        "# Print out the first 5 rows of the DataFrame\n",
        "df.head()"
      ]
    },
    {
      "cell_type": "markdown",
      "metadata": {
        "id": "VkFSw7a3I96b"
      },
      "source": [
        "As shown, the adjusted close price of Facebook was up by 1.01% on 8 Jan 2020, from 7 Jan 2020.\n",
        "\n",
        "Take note, the first value of the new column is missing, as there is no data before 7 Jan 2020 for us to calculate the change. We can always remove this row with missing data later on.\n",
        "\n",
        "Next, we need to calculate the portfolio returns over time, and add that data into the DataFrame.\n",
        "\n",
        "Getting the cumulative returns requires us to make use of the percentage change column in the DataFrame. To get the cumulative returns, we first add 1 to each value in the percentage change column, then create a new column whose values are the cumulative products of the values."
      ]
    },
    {
      "cell_type": "code",
      "execution_count": null,
      "metadata": {
        "id": "JT7_CgfqI96b",
        "outputId": "4354272e-999c-4d15-c042-83369ce70b15"
      },
      "outputs": [
        {
          "data": {
            "text/html": [
              "<div>\n",
              "<style scoped>\n",
              "    .dataframe tbody tr th:only-of-type {\n",
              "        vertical-align: middle;\n",
              "    }\n",
              "\n",
              "    .dataframe tbody tr th {\n",
              "        vertical-align: top;\n",
              "    }\n",
              "\n",
              "    .dataframe thead th {\n",
              "        text-align: right;\n",
              "    }\n",
              "</style>\n",
              "<table border=\"1\" class=\"dataframe\">\n",
              "  <thead>\n",
              "    <tr style=\"text-align: right;\">\n",
              "      <th></th>\n",
              "      <th>Date</th>\n",
              "      <th>Open</th>\n",
              "      <th>High</th>\n",
              "      <th>Low</th>\n",
              "      <th>Close</th>\n",
              "      <th>Adj Close</th>\n",
              "      <th>Volume</th>\n",
              "      <th>PCT_Change</th>\n",
              "      <th>Cumulative Returns</th>\n",
              "    </tr>\n",
              "  </thead>\n",
              "  <tbody>\n",
              "    <tr>\n",
              "      <th>119</th>\n",
              "      <td>2020-06-23</td>\n",
              "      <td>241.279999</td>\n",
              "      <td>245.190002</td>\n",
              "      <td>239.860001</td>\n",
              "      <td>242.240005</td>\n",
              "      <td>242.240005</td>\n",
              "      <td>24017900</td>\n",
              "      <td>0.012624</td>\n",
              "      <td>1.136957</td>\n",
              "    </tr>\n",
              "    <tr>\n",
              "      <th>120</th>\n",
              "      <td>2020-06-24</td>\n",
              "      <td>241.199997</td>\n",
              "      <td>243.220001</td>\n",
              "      <td>232.679993</td>\n",
              "      <td>234.020004</td>\n",
              "      <td>234.020004</td>\n",
              "      <td>20834900</td>\n",
              "      <td>-0.033933</td>\n",
              "      <td>1.098376</td>\n",
              "    </tr>\n",
              "    <tr>\n",
              "      <th>121</th>\n",
              "      <td>2020-06-25</td>\n",
              "      <td>234.619995</td>\n",
              "      <td>237.300003</td>\n",
              "      <td>232.740005</td>\n",
              "      <td>235.679993</td>\n",
              "      <td>235.679993</td>\n",
              "      <td>18704300</td>\n",
              "      <td>0.007093</td>\n",
              "      <td>1.106167</td>\n",
              "    </tr>\n",
              "    <tr>\n",
              "      <th>122</th>\n",
              "      <td>2020-06-26</td>\n",
              "      <td>232.639999</td>\n",
              "      <td>233.089996</td>\n",
              "      <td>215.399994</td>\n",
              "      <td>216.080002</td>\n",
              "      <td>216.080002</td>\n",
              "      <td>76343900</td>\n",
              "      <td>-0.083164</td>\n",
              "      <td>1.014174</td>\n",
              "    </tr>\n",
              "    <tr>\n",
              "      <th>123</th>\n",
              "      <td>2020-06-29</td>\n",
              "      <td>209.750000</td>\n",
              "      <td>220.750000</td>\n",
              "      <td>207.110001</td>\n",
              "      <td>220.639999</td>\n",
              "      <td>220.639999</td>\n",
              "      <td>58514300</td>\n",
              "      <td>0.021103</td>\n",
              "      <td>1.035577</td>\n",
              "    </tr>\n",
              "  </tbody>\n",
              "</table>\n",
              "</div>"
            ],
            "text/plain": [
              "          Date        Open        High         Low       Close   Adj Close  \\\n",
              "119 2020-06-23  241.279999  245.190002  239.860001  242.240005  242.240005   \n",
              "120 2020-06-24  241.199997  243.220001  232.679993  234.020004  234.020004   \n",
              "121 2020-06-25  234.619995  237.300003  232.740005  235.679993  235.679993   \n",
              "122 2020-06-26  232.639999  233.089996  215.399994  216.080002  216.080002   \n",
              "123 2020-06-29  209.750000  220.750000  207.110001  220.639999  220.639999   \n",
              "\n",
              "       Volume  PCT_Change  Cumulative Returns  \n",
              "119  24017900    0.012624            1.136957  \n",
              "120  20834900   -0.033933            1.098376  \n",
              "121  18704300    0.007093            1.106167  \n",
              "122  76343900   -0.083164            1.014174  \n",
              "123  58514300    0.021103            1.035577  "
            ]
          },
          "execution_count": 25,
          "metadata": {},
          "output_type": "execute_result"
        }
      ],
      "source": [
        "# Calculating the cumulative returns\n",
        "df['Cumulative Returns'] = (df['PCT_Change'] + 1).cumprod()\n",
        "\n",
        "# Print out the last 5 rows of the DataFrame\n",
        "df.tail()"
      ]
    },
    {
      "cell_type": "markdown",
      "metadata": {
        "id": "fb3iEblQI96b"
      },
      "source": [
        "As shown above, the cumulative returns show that on 29 Jun 2020, our portfolio would have increased by about 3.56%.\n",
        "\n",
        "Next, we want to get the standard deviation of our portfolio.\n",
        "\n"
      ]
    },
    {
      "cell_type": "code",
      "execution_count": null,
      "metadata": {
        "id": "sLn17ZcCI96b",
        "outputId": "34428f1a-a1e3-4234-e21b-eb24936e6c08"
      },
      "outputs": [
        {
          "data": {
            "text/plain": [
              "0.1238994093561749"
            ]
          },
          "execution_count": 29,
          "metadata": {},
          "output_type": "execute_result"
        }
      ],
      "source": [
        "# Calculating Portfolio Standard Deviation\n",
        "df['Cumulative Returns'].std()"
      ]
    },
    {
      "cell_type": "markdown",
      "metadata": {
        "id": "h3T-2-MnI96b"
      },
      "source": [
        "### Plotting The Data (Using matplotlib)\n",
        "\n",
        "Now, let's visualise Facebook's stock price over time. We will be making use of another library: `matplotlib`. \n",
        "\n",
        "We import the relevant library using `import matplotlib.pyplot as plt`.\n",
        "\n",
        "To make a more meaningful visualisation, we first make use of the 'Date' column as the index. This will make more sense once we have finished plotting."
      ]
    },
    {
      "cell_type": "code",
      "execution_count": null,
      "metadata": {
        "id": "BlrFeuZcI96b",
        "outputId": "3e8226e9-14d4-4dea-da0a-dd40df895d2e"
      },
      "outputs": [
        {
          "data": {
            "text/html": [
              "<div>\n",
              "<style scoped>\n",
              "    .dataframe tbody tr th:only-of-type {\n",
              "        vertical-align: middle;\n",
              "    }\n",
              "\n",
              "    .dataframe tbody tr th {\n",
              "        vertical-align: top;\n",
              "    }\n",
              "\n",
              "    .dataframe thead th {\n",
              "        text-align: right;\n",
              "    }\n",
              "</style>\n",
              "<table border=\"1\" class=\"dataframe\">\n",
              "  <thead>\n",
              "    <tr style=\"text-align: right;\">\n",
              "      <th></th>\n",
              "      <th>Open</th>\n",
              "      <th>High</th>\n",
              "      <th>Low</th>\n",
              "      <th>Close</th>\n",
              "      <th>Adj Close</th>\n",
              "      <th>Volume</th>\n",
              "      <th>PCT_Change</th>\n",
              "      <th>Cumulative Returns</th>\n",
              "    </tr>\n",
              "    <tr>\n",
              "      <th>Date</th>\n",
              "      <th></th>\n",
              "      <th></th>\n",
              "      <th></th>\n",
              "      <th></th>\n",
              "      <th></th>\n",
              "      <th></th>\n",
              "      <th></th>\n",
              "      <th></th>\n",
              "    </tr>\n",
              "  </thead>\n",
              "  <tbody>\n",
              "    <tr>\n",
              "      <th>2020-01-07</th>\n",
              "      <td>212.820007</td>\n",
              "      <td>214.580002</td>\n",
              "      <td>211.750000</td>\n",
              "      <td>213.059998</td>\n",
              "      <td>213.059998</td>\n",
              "      <td>14912400</td>\n",
              "      <td>NaN</td>\n",
              "      <td>NaN</td>\n",
              "    </tr>\n",
              "    <tr>\n",
              "      <th>2020-01-08</th>\n",
              "      <td>213.000000</td>\n",
              "      <td>216.240005</td>\n",
              "      <td>212.610001</td>\n",
              "      <td>215.220001</td>\n",
              "      <td>215.220001</td>\n",
              "      <td>13475000</td>\n",
              "      <td>0.010138</td>\n",
              "      <td>1.010138</td>\n",
              "    </tr>\n",
              "    <tr>\n",
              "      <th>2020-01-09</th>\n",
              "      <td>217.539993</td>\n",
              "      <td>218.380005</td>\n",
              "      <td>216.279999</td>\n",
              "      <td>218.300003</td>\n",
              "      <td>218.300003</td>\n",
              "      <td>12642800</td>\n",
              "      <td>0.014311</td>\n",
              "      <td>1.024594</td>\n",
              "    </tr>\n",
              "    <tr>\n",
              "      <th>2020-01-10</th>\n",
              "      <td>219.199997</td>\n",
              "      <td>219.880005</td>\n",
              "      <td>217.419998</td>\n",
              "      <td>218.059998</td>\n",
              "      <td>218.059998</td>\n",
              "      <td>12119400</td>\n",
              "      <td>-0.001099</td>\n",
              "      <td>1.023468</td>\n",
              "    </tr>\n",
              "    <tr>\n",
              "      <th>2020-01-13</th>\n",
              "      <td>219.600006</td>\n",
              "      <td>221.970001</td>\n",
              "      <td>219.210007</td>\n",
              "      <td>221.910004</td>\n",
              "      <td>221.910004</td>\n",
              "      <td>14463400</td>\n",
              "      <td>0.017656</td>\n",
              "      <td>1.041538</td>\n",
              "    </tr>\n",
              "  </tbody>\n",
              "</table>\n",
              "</div>"
            ],
            "text/plain": [
              "                  Open        High         Low       Close   Adj Close  \\\n",
              "Date                                                                     \n",
              "2020-01-07  212.820007  214.580002  211.750000  213.059998  213.059998   \n",
              "2020-01-08  213.000000  216.240005  212.610001  215.220001  215.220001   \n",
              "2020-01-09  217.539993  218.380005  216.279999  218.300003  218.300003   \n",
              "2020-01-10  219.199997  219.880005  217.419998  218.059998  218.059998   \n",
              "2020-01-13  219.600006  221.970001  219.210007  221.910004  221.910004   \n",
              "\n",
              "              Volume  PCT_Change  Cumulative Returns  \n",
              "Date                                                  \n",
              "2020-01-07  14912400         NaN                 NaN  \n",
              "2020-01-08  13475000    0.010138            1.010138  \n",
              "2020-01-09  12642800    0.014311            1.024594  \n",
              "2020-01-10  12119400   -0.001099            1.023468  \n",
              "2020-01-13  14463400    0.017656            1.041538  "
            ]
          },
          "execution_count": 30,
          "metadata": {},
          "output_type": "execute_result"
        }
      ],
      "source": [
        "import matplotlib.pyplot as plt\n",
        "from datetime import datetime\n",
        "\n",
        "# Convert the Date column to a datetime format\n",
        "df['Date'] = pd.to_datetime(df['Date'], format='%d/%m/%Y')\n",
        "\n",
        "# Set index to the Date column and assign it to the DF variable\n",
        "DF = df.set_index('Date')\n",
        "\n",
        "# Print out the first 5 rows of the DataFrame\n",
        "DF.head()"
      ]
    },
    {
      "cell_type": "markdown",
      "metadata": {
        "id": "8ekK3qvMI96c"
      },
      "source": [
        "Now that we have successfully set the Date column as the index, we can now make a plot of the stock price data."
      ]
    },
    {
      "cell_type": "code",
      "execution_count": null,
      "metadata": {
        "id": "l3IaovrQI96c",
        "outputId": "5832ec05-bb9a-44e5-eb7f-ed0e17edf2cb"
      },
      "outputs": [
        {
          "data": {
            "image/png": "[encoded data removed]",
            "text/plain": [
              "<Figure size 432x288 with 1 Axes>"
            ]
          },
          "metadata": {
            "needs_background": "light"
          },
          "output_type": "display_data"
        }
      ],
      "source": [
        "# Finally making the visualisation\n",
        "plt.plot(DF['Adj Close'])\n",
        "plt.title('FB Stock Price (Jan 2020 - Jun 2020)')\n",
        "plt.xlabel('Date')\n",
        "plt.ylabel('Adjusted Close Price (US$)')\n",
        "plt.show()"
      ]
    },
    {
      "cell_type": "markdown",
      "metadata": {
        "id": "WQHcBWtVI96c"
      },
      "source": [
        "Looking at the plot, we see that the x axis shows the dates in a nice format, which was why we converted the Date column to a date format and used it as the index to make the plot. \n",
        "\n",
        "Facebook's stock price has gone down significantly due to the coronavirus pandemic, but it has recovered quite a fair bit in recent times."
      ]
    }
  ],
  "metadata": {
    "kernelspec": {
      "display_name": "Python 3",
      "language": "python",
      "name": "python3"
    },
    "language_info": {
      "codemirror_mode": {
        "name": "ipython",
        "version": 3
      },
      "file_extension": ".py",
      "mimetype": "text/x-python",
      "name": "python",
      "nbconvert_exporter": "python",
      "pygments_lexer": "ipython3",
      "version": "3.7.6"
    },
    "colab": {
      "provenance": [],
      "include_colab_link": true
    }
  },
  "nbformat": 4,
  "nbformat_minor": 0
}